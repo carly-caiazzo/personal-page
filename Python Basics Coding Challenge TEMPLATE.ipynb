{
 "cells": [
  {
   "attachments": {},
   "cell_type": "markdown",
   "id": "cell-0-markdown",
   "metadata": {
    "editable": true,
    "slideshow": {
     "slide_type": ""
    },
    "tags": []
   },
   "source": [
    "# Python Basics: Coding Challenge\n",
    "---\n",
    "**This assignment is designed to provide you practice with variables, calculations, input, output, and data types.** "
   ]
  },
  {
   "attachments": {},
   "cell_type": "markdown",
   "id": "cell-1-markdown",
   "metadata": {
    "editable": true,
    "jp-MarkdownHeadingCollapsed": true,
    "slideshow": {
     "slide_type": ""
    },
    "tags": []
   },
   "source": [
    "## INSTRUCTIONS - Please read carefully.\n",
    "\n",
    "1. Please complete the following coding exercises and upload a copy of the completed notebook as your assignment submission.\n",
    "\n",
    "2. The estimated difficulty level is listed next to each question (**L** - low, **M** - medium, **H** - high).\n",
    "   \n",
    "3. A blank code cell has been created below each question for you to add the relevant code. Add additional code cells if needed. Execute all code cells to display the results. \n",
    "\n",
    "4. Add comments in each cell to explain what the code is meant to achieve (you will be graded on this). For example,\n",
    "\n",
    "```\n",
    "# ask for user preference\n",
    "\n",
    "# check if user wants to continue\n",
    "```\n",
    "\n",
    "5. Follow guidelines discussed in class to create well-written code. For example, provide user friendly prompts for all user inputs and user friendly messages with all outputs. Assign meaningful names to variables (you will be graded on this).\n",
    "\n",
    "6. <font color=\"red\">The **scope of this assignment** is limited to the material covered until the end of the lesson on **<u>Python Fundamentals - 3: Debugging Code</u>**. You must not use concepts discussed in subsequent lessons in your work for this assignment</font>.\n",
    "\n",
    "7. You can use additional materials, online resources and Gen AI tools to study course concepts but you may not post the specific questions online or otherwise seek help in answering the specific homework questions. Additionally, you must only use the concepts/ functions that are in the scope of the assignment and have been covered in the course. **The use of concepts and functions that are not in the scope of the assignment, or have not been covered in the course, or mentioned in the question will incur a <font color=\"red\">penalty</font>**. The default penalty is zero for the question where such code is used, unless otherwise specified in the assignment. If we notice the use of concepts and functions that were not covered in the course or mentioned in the question, or if the code does not appear similar to what you have turned in before, we will ask you to set up a meeting to explain the code. **Failure to explain your submitted code may result in <font color=\"red\">academic integrity violation proceedings</font>**. Please **CHECK THE ACADEMIC INTEGRITY SECTION IN THE SYLLABUS** for complete information. \n",
    "   \n",
    "8. Do the following before downloading the notebook for submission. From the Kernel menu, select Restart Kernel and Clear All Outputs. Next, run all your code cells one by one, from the top to the bottom. Provide inputs where you have used input() functions and check that the outputs of all code cells are as you expected. If everything checks out, save the notebook and download it for submission. If you find any errors, fix them and repeat this step until everything checks out."
   ]
  },
  {
   "attachments": {},
   "cell_type": "markdown",
   "id": "cell-3-markdown",
   "metadata": {
    "editable": true,
    "slideshow": {
     "slide_type": ""
    },
    "tags": []
   },
   "source": [
    "<HR/>\n",
    "\n",
    "## <font color='red'/>Student Name</font>\n",
    "\n",
    "#### **Name: Carly Caiazzo**\n",
    "\n",
    "<HR/>"
   ]
  },
  {
   "cell_type": "markdown",
   "id": "1976df6d-5846-497c-901d-57c457c3827f",
   "metadata": {
    "editable": true,
    "slideshow": {
     "slide_type": ""
    },
    "tags": [
     "Pre-Q"
    ]
   },
   "source": [
    "## Notebook Setup (Imports)\n",
    "\n",
    "Please add any imports you need below or any other code that you need to run before your other code cells.\n"
   ]
  },
  {
   "cell_type": "code",
   "execution_count": 2,
   "id": "35755c68-d23f-4752-af91-a5d96630f895",
   "metadata": {},
   "outputs": [
    {
     "name": "stdout",
     "output_type": "stream",
     "text": [
      "2.0\n",
      "11\n",
      "16.0\n"
     ]
    }
   ],
   "source": [
    "\n",
    "import math\n",
    "\n",
    "# Take the square root of 4\n",
    "print(math.sqrt(4))\n",
    "\n",
    "#rounds to the smallest integer greater than or equal to 10.5\n",
    "print(math.ceil(10.5))\n",
    "\n",
    "#exponential function\n",
    "print(math.pow(2,4))"
   ]
  },
  {
   "attachments": {},
   "cell_type": "markdown",
   "id": "cell-4-markdown",
   "metadata": {
    "editable": true,
    "slideshow": {
     "slide_type": ""
    },
    "tags": [
     "Q1-Text"
    ]
   },
   "source": [
    "## Question 1 (M)\n",
    "\n",
    "Write a program that accepts the unit price and cost for a cup of lemonade at a lemonade stand as inputs and displays the profit in dollars and cents (X dollars and Y cents). Use the scenarios (called test cases) listed below to test your code. Run your code multiple times. Each time, set the inputs using the unit price and unit cost provided in the next test case and verify that the output your code gives matches the output listed in that test case. \n",
    "\n",
    "| Unit Price | Unit Cost | Profit in dollars and cents (Output) |\n",
    "---------|--------|--------|\n",
    "| 2.50 | 1.25 | 1 dollars and 25 cents |\n",
    "| 3.23 | 1.23 | 2 dollars and 0 cents |\n",
    "| 4.10 | 2.60 | 1 dollars and 50 cents (1 dollars and 49 cents is also correct) |\n",
    "| 0.60 | 1.50 | 0 dollars and -90 cents |\n",
    "\n",
    "Note: You may end up with 49 cents instead of 50 cents for the third test case above. That is fine. It is due to the way computers perform floating point arithmetic. While they are outside the scope of our course, Python programmers use `decimal` and `fractions` modules to deal with imprecision in floating point arithmetic."
   ]
  },
  {
   "cell_type": "code",
   "execution_count": 42,
   "id": "f58f8796-4b86-4f41-b98d-5613725dc88f",
   "metadata": {
    "editable": true,
    "slideshow": {
     "slide_type": ""
    },
    "tags": []
   },
   "outputs": [
    {
     "name": "stdin",
     "output_type": "stream",
     "text": [
      "What is the unit price for a cup of lemonade? 0.60\n",
      "What is the unit cost for a cup of lemonade? 1.50\n"
     ]
    },
    {
     "name": "stdout",
     "output_type": "stream",
     "text": [
      "0 dollars and -90 cents\n"
     ]
    }
   ],
   "source": [
    "# asks user for possible prices and costs per unit\n",
    "unit_price = float(input(\"What is the unit price for a cup of lemonade?\"))\n",
    "unit_cost = float(input(\"What is the unit cost for a cup of lemonade?\"))\n",
    "\n",
    "#defines profit by subtracting cost from price\n",
    "profit = (unit_price - unit_cost)\n",
    "\n",
    "#defines dollar to cent conversion\n",
    "cent_conversion = 100\n",
    "\n",
    "#defines profit as cents\n",
    "total_cents = round(profit * cent_conversion)\n",
    "\n",
    "#separates dollars from cents\n",
    "profit_dollars = int(total_cents / cent_conversion)\n",
    "profit_cents = total_cents - (profit_dollars * cent_conversion)\n",
    "\n",
    "#displays output in long-written format\n",
    "print(profit_dollars, \"dollars and\", profit_cents, \"cents\")"
   ]
  },
  {
   "attachments": {},
   "cell_type": "markdown",
   "id": "cell-6-markdown",
   "metadata": {
    "editable": true,
    "slideshow": {
     "slide_type": ""
    },
    "tags": [
     "Q2-Text"
    ]
   },
   "source": [
    "<HR/>\n",
    "\n",
    "## Question 2 (L)\n",
    "\n",
    "Below is a program that prompts a user for two numbers as inputs and stores them in variables num1 and num2. The program will then swap the values in variables num1 and num2. Finally the program outputs the swapped values.\n",
    "\n",
    "Below is some code pre-filled to accomplish this task with some blank spots. Fill in the blank spots and then run the code to confirm it works correctly.\n",
    "\n",
    "**Note:** To get full credit on this question, the values stored in num1 and num2 must be swapped."
   ]
  },
  {
   "cell_type": "code",
   "execution_count": 31,
   "id": "cell-7-code",
   "metadata": {
    "editable": true,
    "slideshow": {
     "slide_type": ""
    },
    "tags": []
   },
   "outputs": [
    {
     "name": "stdin",
     "output_type": "stream",
     "text": [
      "What is the first number to store in num1? 1\n",
      "What is the second number to store in num2? 2\n"
     ]
    },
    {
     "name": "stdout",
     "output_type": "stream",
     "text": [
      "Swapping numbers...\n",
      "The number stored in num1 is now 2\n",
      "The number stored in num2 is now 1\n"
     ]
    }
   ],
   "source": [
    "### Prompt the User for the numbers to store in num1 and num2\n",
    "num1 = int(input(\"What is the first number to store in num1?\"))\n",
    "num2 = int(input(\"What is the second number to store in num2?\"))\n",
    "\n",
    "\n",
    "# Use a temporary variable (temp) to hold one of the numbers in order to swap\n",
    "print(\"Swapping numbers...\")\n",
    "num2 = num1\n",
    "num1 = temp\n",
    "temp = num1\n",
    "\n",
    "# Output the new stored numbers\n",
    "print(\"The number stored in num1 is now\", num1)\n",
    "print(\"The number stored in num2 is now\", num2)"
   ]
  },
  {
   "attachments": {},
   "cell_type": "markdown",
   "id": "cell-8-markdown",
   "metadata": {
    "editable": true,
    "slideshow": {
     "slide_type": ""
    },
    "tags": [
     "Q3-Text"
    ]
   },
   "source": [
    "<HR/>\n",
    "\n",
    "## Question 3 (H)\n",
    "\n",
    "A retailer has installed a new section for kids' toys. There are five shelving units in this section, each with four shelves. Each shelf is ten feet long. Three of the shelving units will be used to store small toys and two shelving units will be used to store large toys. Each small toy takes up eleven inches space in length (package + the space needed between two toys). Each large toy takes up fifteen inches.\n",
    "\n",
    "Write a program that captures the above information and calculates how many small toys and how many large toys can be stored in the new section. \n",
    "\n",
    "**Note:** Make sure to think about which variables should be CONSTANTS and which should be regular variables when writing code.\n",
    "\n",
    "**Hint:** If your calculations are correct, your code should produce the following answer:\n",
    "\n",
    "```\n",
    "120 toys can fit on the shelving units for SMALL toys.\n",
    "64 toys can fit on the shelving units for LARGE toys.\n",
    "```"
   ]
  },
  {
   "cell_type": "code",
   "execution_count": 28,
   "id": "cell-9-code",
   "metadata": {},
   "outputs": [
    {
     "name": "stdout",
     "output_type": "stream",
     "text": [
      "120 toys can fit on the shelving units for SMALL toys\n",
      "64 toys can fit on the shelving units for LARGE toys\n"
     ]
    }
   ],
   "source": [
    "# feet per shelf, according to which size toy\n",
    "shelf_smalltoys_feet = 4*10\n",
    "shelf_largetoys_feet = 4*10\n",
    "\n",
    "#converting shelf feet to inches\n",
    "shelf_smalltoys_inches = shelf_smalltoys_feet * 12\n",
    "shelf_largetoys_inches = shelf_largetoys_feet * 12\n",
    "\n",
    "#toy size, with .5 inches of shelf space on each side for small toys\n",
    "smalltoys = 11 + .5*2\n",
    "largetoys = 15\n",
    "\n",
    "#amount of toys that can be placed on each shelf, according to size\n",
    "small_total = (shelf_smalltoys_inches/smalltoys)*3\n",
    "large_total = (shelf_largetoys_inches/largetoys)*2\n",
    "\n",
    "#shows output\n",
    "print (int(small_total), \"toys can fit on the shelving units for SMALL toys\")\n",
    "print (int(large_total), \"toys can fit on the shelving units for LARGE toys\")"
   ]
  },
  {
   "attachments": {},
   "cell_type": "markdown",
   "id": "cell-10-markdown",
   "metadata": {
    "editable": true,
    "slideshow": {
     "slide_type": ""
    },
    "tags": [
     "Q4-Text"
    ]
   },
   "source": [
    "<HR/>\n",
    "\n",
    "## Question 4 (M)\n",
    "\n",
    "Write a program that prompts the user for the number of seconds. The program will then calculate and print the number of days, hours, minutes, and seconds the entry is equivalent to.\n",
    "\n",
    "**Note:** You can assume the number of seconds being entered will always be an integer value.\n",
    "\n",
    "Test your code using the following test cases:\n",
    "\n",
    "| seconds | Output (days, hours, minutes, and seconds) |\n",
    "---------|--------|\n",
    "| 60 | 0 days, 0 hours, 1 minutes, and 0 seconds |\n",
    "| 3600 | 0 days, 1 hours, 0 minutes, and 0 seconds | \n",
    "| 23455  | 0 days, 6 hours, 30 minutes, and 55 seconds |\n",
    "| 86400  | 1 days, 0 hours, 0 minutes, and 0 seconds |\n",
    "| 846600 | 9 days, 19 hours, 10 minutes, and 0 seconds |\n"
   ]
  },
  {
   "cell_type": "code",
   "execution_count": 1,
   "id": "cell-11-code",
   "metadata": {},
   "outputs": [
    {
     "name": "stdin",
     "output_type": "stream",
     "text": [
      "Give me a possible number of seconds 846600\n"
     ]
    },
    {
     "name": "stdout",
     "output_type": "stream",
     "text": [
      "9 days, 19 hours, 10 minutes, and 0 seconds\n"
     ]
    }
   ],
   "source": [
    "# asks user for a hypothetical number of seconds\n",
    "seconds_input = int(input(\"Give me a possible number of seconds\"))\n",
    "\n",
    "#defines days\n",
    "days = seconds_input//(24*60*60)\n",
    "remaining_seconds = seconds_input%(24*60*60)\n",
    "\n",
    "#defines hours\n",
    "hours = remaining_seconds//(60*60)\n",
    "remaining_seconds = remaining_seconds%(60*60)\n",
    "\n",
    "#defines minutes\n",
    "minutes = remaining_seconds//(60)\n",
    "\n",
    "#defines seconds\n",
    "seconds = remaining_seconds%60\n",
    "\n",
    "#displays output\n",
    "print(days, \"days,\" , hours, \"hours,\" , minutes, \"minutes, and\" , seconds,\"seconds\")"
   ]
  },
  {
   "attachments": {},
   "cell_type": "markdown",
   "id": "cell-12-markdown",
   "metadata": {},
   "source": [
    "<HR/>\n",
    "\n",
    "## Mini-Lesson on python `imports`\n",
    "\n",
    "Sometimes you will need to use some more advanced mathematical operations besides beyond `+, -, /, *, and %`. In those cases, python has a built in library for providing extra features such as power, square root, sin, cos, tan, etc. To read about all the different features of the `math` library you can visit the [python math library documentation page](https://docs.python.org/3/library/math.html) and read through the different functions and how to use them. For this homework assignment it would be good to familiarize yourself with the `sqrt`, `ceil`, and `pow` functions.\n",
    "\n",
    "In order to use any of the functions from the `math` library, you will need to import the `math` library. You can do this once at the beginning of your notebook in the `Notebook Setup (Imports)` section (just make sure you run that cell first) or you can put it at the start of every cell where you use math (there's no harm in importing the same library multiple times).\n",
    "\n",
    "See the code cell below for an example of how to import and use the math library for the `sqrt` function. When you run it, you should get 2 since that is the sqrt of 4. Try changing the number to 16, 25, 36 and see what the results are.\n"
   ]
  },
  {
   "cell_type": "code",
   "execution_count": 23,
   "id": "cell-13-code",
   "metadata": {},
   "outputs": [
    {
     "name": "stdout",
     "output_type": "stream",
     "text": [
      "2.0\n",
      "4.0\n"
     ]
    }
   ],
   "source": [
    "import math\n",
    "\n",
    "# Take the square root of 4\n",
    "print(math.sqrt(4))\n",
    "\n",
    "print(math.pow(2,2))"
   ]
  },
  {
   "attachments": {},
   "cell_type": "markdown",
   "id": "cell-14-markdown",
   "metadata": {
    "editable": true,
    "slideshow": {
     "slide_type": ""
    },
    "tags": [
     "Q5-Text"
    ]
   },
   "source": [
    "<HR/> \n",
    "\n",
    "## Question 5 (M)\n",
    "\n",
    "Please write a program that uses the [quadradic formula](https://en.wikipedia.org/wiki/Quadratic_formula) to calculate solution(s) to the quadratic equation. \n",
    "\n",
    "$$x = \\frac{-b \\pm \\sqrt{b^2 - 4ac}}{2a}$$\n",
    "\n",
    "Your program should:\n",
    "- prompt the user for the values a, b, and c\n",
    "- calculate the two solutions\n",
    "- print the two solutions back to the user rounded to two decimal places\n",
    "\n",
    "**Note:** For simplicity, you can assume that the coefficients (a,b,c) will only be integers and will always yield real numbers solutions.\n",
    "\n",
    "Test your code with the following test cases:\n",
    "\n",
    "| a | b | c | Solutions (output) |\n",
    "---------|--------|--------|--------|\n",
    "| 1 | 3 | -40 | 5, -8 |\n",
    "| 2 | 2 | -420 | 14, -15 |\n",
    "| 1 | 7 | 4 | -0.63, -6.37 |\n",
    "| -8 | 12 | 6 | -0.40, 1.90 |"
   ]
  },
  {
   "cell_type": "code",
   "execution_count": 45,
   "id": "d9b976d9-de5a-45de-a9bc-d3ef37b2b20d",
   "metadata": {},
   "outputs": [
    {
     "name": "stdin",
     "output_type": "stream",
     "text": [
      "Give me a possible value for a 1\n",
      "Give me a possible value for b 7\n",
      "Give me a possible value for c 4\n"
     ]
    },
    {
     "name": "stdout",
     "output_type": "stream",
     "text": [
      "-0.63 , -6.37\n"
     ]
    }
   ],
   "source": [
    "# asks user for input values a, b, c\n",
    "a = int(input(\"Give me a possible value for a\"))\n",
    "b = int(input(\"Give me a possible value for b\"))\n",
    "c = int(input(\"Give me a possible value for c\"))\n",
    "\n",
    "#defines discriminant and states that it can be used if positive\n",
    "discriminant = math.pow(b,2) - (4 * a * c)\n",
    "useable_discriminant = abs(discriminant)\n",
    "\n",
    "#completes formula in two parts for addition and subtraction\n",
    "add_solution = (-b + math.sqrt(useable_discriminant))/(2*a)\n",
    "subtract_solution = (-b - math.sqrt(useable_discriminant))/(2*a)\n",
    "\n",
    "#displays both outputs as rounded decimals\n",
    "print(round(add_solution, 2), \",\", round(subtract_solution, 2))"
   ]
  },
  {
   "attachments": {},
   "cell_type": "markdown",
   "id": "cell-16-markdown",
   "metadata": {
    "editable": true,
    "slideshow": {
     "slide_type": ""
    },
    "tags": [
     "Q6-Text"
    ]
   },
   "source": [
    "<HR/>\n",
    "\n",
    "## Question 6 (H)\n",
    "\n",
    "You're working on a video game and you are given a damage calculation formula shown below to implement in code.\n",
    "\n",
    "$$Damage = \\frac{(\\frac{2 * Level * Power}{5} + 2) * \\frac{Attack}{Defense}}{50} + 2^{Critical}$$\n",
    "\n",
    "Create variables for the following values in the formula and assign them values:\n",
    "- Attack\n",
    "- Defense\n",
    "- Level\n",
    "- Critical\n",
    "- Power\n",
    "\n",
    "Then implement the formula in code to calculate the damage and output to the user how much damage was done. Round your answer to 2 decimal places.\n",
    "\n",
    "Test your code using the following values:\n",
    "\n",
    "\n",
    "| Attack | Defense | Level | Critical | Power | Damage (Output) |\n",
    "---------|--------|--------|--------|--------|--------|\n",
    "| 25 | 50 | 30 | 1 | 50 | 8.02 |\n",
    "| 40 | 25 | 80 | 1 | 20 | 22.54 |\n",
    "| 10 | 20 | 8 | 2.5 | 5 | 5.84 |\n",
    "| 41 | 36 | 54 | 1 | 25 | 14.35 |\n"
   ]
  },
  {
   "cell_type": "code",
   "execution_count": 20,
   "id": "cell-17-code",
   "metadata": {},
   "outputs": [
    {
     "name": "stdout",
     "output_type": "stream",
     "text": [
      "22.54\n"
     ]
    }
   ],
   "source": [
    "# creating and defining variables\n",
    "attack = 40\n",
    "defense = 25\n",
    "level = 80\n",
    "critical = 1\n",
    "power = 20\n",
    "\n",
    "#implimenting formulas into code\n",
    "damage = (((((2*level*power)/5 )+2) * (attack/defense))/50) + math.pow(2,critical)\n",
    "\n",
    "#displays output values\n",
    "print(round(damage,2))"
   ]
  },
  {
   "attachments": {},
   "cell_type": "markdown",
   "id": "cell-18-markdown",
   "metadata": {
    "editable": true,
    "slideshow": {
     "slide_type": ""
    },
    "tags": [
     "Q7-Text"
    ]
   },
   "source": [
    "<HR/>\n",
    "\n",
    "## Question 7 (L)\n",
    "\n",
    "Your friend comes to you with a problem with their code. The code is supposed to calculate the average of a number of variables. They said it used to work and they made some changes, but now it no longer works. Help them fix the code after copying it to the code cell below and use comments to explain what was the issue.\n",
    "\n",
    "```Python\n",
    "NUMBER_1 = 10\n",
    "NUMBER_2 = 15\n",
    "NUMBER_3 = 20\n",
    "NUMBER_4 = 25\n",
    "NUMBER_5 = 30\n",
    "NUMBEr_6 = 35\n",
    "\n",
    "SUM = NUMBER_1 + NUMBER_2 + NUMBER_3 + NUMBER_4 + NUMBER_5 NUMBER_6\n",
    "\n",
    "AVG = TOTAL / 5\n",
    "\n",
    "print(\"The average is \" + str(avg))\n",
    "```\n",
    "\n",
    "The output should be `The average is 22.5`."
   ]
  },
  {
   "cell_type": "code",
   "execution_count": 8,
   "id": "cell-19-code",
   "metadata": {},
   "outputs": [
    {
     "name": "stdout",
     "output_type": "stream",
     "text": [
      "The average is 22.5\n"
     ]
    }
   ],
   "source": [
    "# defining number variables\n",
    "#ISSUE FIXED - \"NUMBEr_6\" should be \"NUMBER_6\" for later use to find sum of variables\n",
    "NUMBER_1 = 10\n",
    "NUMBER_2 = 15\n",
    "NUMBER_3 = 20\n",
    "NUMBER_4 = 25\n",
    "NUMBER_5 = 30\n",
    "NUMBER_6 = 35\n",
    "\n",
    "#adding all variables\n",
    "#ISSUE FIXED - does not have an addition function (+) between NUMBER_5 and NUMBER_6\n",
    "SUM = NUMBER_1 + NUMBER_2 + NUMBER_3 + NUMBER_4 + NUMBER_5 + NUMBER_6\n",
    "\n",
    "#finding mean or average \n",
    "# ISSUE FIXED - \"TOTAL\" not defined variable, changed to \"SUM\" which has been defined\n",
    "# ISSUE FIXED - should be divided by 6 to account for 6 variables\n",
    "AVG = SUM / 6\n",
    "\n",
    "#displaying output\n",
    "#ISSUE FIXED - \"avg\" is not capitalized, only \"AVG\" has been defined\n",
    "print(\"The average is \" + str(AVG))"
   ]
  },
  {
   "attachments": {},
   "cell_type": "markdown",
   "id": "cell-20-markdown",
   "metadata": {
    "editable": true,
    "slideshow": {
     "slide_type": ""
    },
    "tags": [
     "Q8-Text"
    ]
   },
   "source": [
    "<HR/> \n",
    "\n",
    "## Question 8 (M)\n",
    "\n",
    "**Trace Tables should be completed as tables in Markdown. Please review the lessons on `Thinking like a Programmer` for instructions on creating a table in Markdown.**\n",
    "**If you run into issues and cannot resolve them in time, you may create the trace table on paper and take a picture or in Excel and take a screenshot. When submitting in CodeGrade, include the image as an additional file with along with your notebook submission. Make sure to annotate below that you submitted it as an image.**\n",
    "\n",
    "\n",
    "Create a trace table for the following code. You can create a table using markdown in the markdown cell provided below or you can create the table on paper or another tool and attach an image in the markdown cell. See posted class material and resources for help with creating tables and attaching images.\n",
    "\n",
    "\n",
    "\n",
    "```Python\n",
    "a = 25\n",
    "\n",
    "b = 25\n",
    "\n",
    "a / 5\n",
    "\n",
    "a = a / 5\n",
    "\n",
    "c = b + a * 2\n",
    "\n",
    "(c + c) / 10\n",
    "\n",
    "b = a + c // b\n",
    "\n",
    "a = c % b\n",
    "\n",
    "b = c\n",
    "\n",
    "a = b\n",
    "```\n",
    "\n"
   ]
  },
  {
   "attachments": {},
   "cell_type": "markdown",
   "id": "cell-21-markdown",
   "metadata": {
    "editable": true,
    "slideshow": {
     "slide_type": ""
    },
    "tags": []
   },
   "source": [
    "| Line | a  | b  | c  |\n",
    "|------|----|----|----|\n",
    "| 1    | 25 |    |    |\n",
    "| 2    |    | 25 |    |\n",
    "| 4    | 5  |    |    |\n",
    "| 5    |    |    | 35 |\n",
    "| 7    |    | 1  |    |\n",
    "| 8    | 0  |    |    |\n",
    "| 9    |    | 35 |    |\n",
    "| 10   | 35 |    |    |"
   ]
  },
  {
   "attachments": {},
   "cell_type": "markdown",
   "id": "cell-23-markdown",
   "metadata": {
    "editable": true,
    "slideshow": {
     "slide_type": ""
    },
    "tags": [
     "Q9-Text"
    ]
   },
   "source": [
    "<HR/>\n",
    "\n",
    "## Question 9 (L)\n",
    "\n",
    "Create a trace table for the following code. Feel free to look up online what each of the functions used below does.\n",
    "\n",
    "```Python\n",
    "import math\n",
    "\n",
    "a = math.ceil(2.5)\n",
    "\n",
    "b = a * 3\n",
    "\n",
    "c = (a + b) // 5\n",
    "\n",
    "b = max(a - c, c - a)\n",
    "\n",
    "a = math.sqrt(a + b)\n",
    "\n",
    "b = math.pow(c, 2)\n",
    "\n",
    "print(a)\n",
    "\n",
    "print(b)\n",
    "\n",
    "print(c)\n",
    "\n",
    "\n",
    "```\n"
   ]
  },
  {
   "attachments": {},
   "cell_type": "markdown",
   "id": "96f84fac-011f-41b5-a733-8ce13c39c32c",
   "metadata": {
    "editable": true,
    "slideshow": {
     "slide_type": ""
    },
    "tags": []
   },
   "source": [
    "| Line | a | b | c | Output |\n",
    "|------|---|---|---|--------|\n",
    "| 2    | 3 |   |   |        |\n",
    "| 3    |   | 9 |   |        |\n",
    "| 4    |   |   | 2 |        |\n",
    "| 5    |   | 1 |   |        |\n",
    "| 6    | 2 |   |   |        |\n",
    "| 7    |   | 4 |   |        |\n",
    "| 8    |   |   |   | 2      |\n",
    "| 9    |   |   |   | 4      |\n",
    "| 10   |   |   |   | 2      |"
   ]
  },
  {
   "attachments": {},
   "cell_type": "markdown",
   "id": "cell-26-markdown",
   "metadata": {
    "editable": true,
    "slideshow": {
     "slide_type": ""
    },
    "tags": [
     "Q10-Text"
    ]
   },
   "source": [
    "<HR/>\n",
    "\n",
    "## Question 10 (H)\n",
    "\n",
    "Your friend is having issues with their jupyter notebook. They have 3 code cells set up, each with a specific task. They are running into errors and they're not sure what happened. Help them fix the errors in their notebook and try to figure out what the problem was.\n",
    "\n",
    "Some of the problems they're experiencing:\n",
    "- When they re-opened the file again, the first code block no longer runs. Instead, the code block gives an error.\n",
    "- The second code block runs OK, but it does not give the correct answer.\n",
    "- Each time the third code block runs, it gives a different answer."
   ]
  },
  {
   "cell_type": "code",
   "execution_count": 10,
   "id": "cell-27-code",
   "metadata": {},
   "outputs": [
    {
     "name": "stdout",
     "output_type": "stream",
     "text": [
      "The perimeter is: 12\n"
     ]
    }
   ],
   "source": [
    "#define SIDE varibles\n",
    "\n",
    "SIDE_1 = 3\n",
    "SIDE_2 = 4\n",
    "SIDE_3 = 5\n",
    "\n",
    "## Calculate the perimeter of a triangle\n",
    "perimeter = SIDE_1 + SIDE_2 + SIDE_3\n",
    "\n",
    "print(\"The perimeter is: \" + str(round(perimeter)))"
   ]
  },
  {
   "cell_type": "code",
   "execution_count": 12,
   "id": "cell-28-code",
   "metadata": {},
   "outputs": [
    {
     "name": "stdout",
     "output_type": "stream",
     "text": [
      "The area of the square with side 10 is: 100\n"
     ]
    }
   ],
   "source": [
    "# Triangle sides\n",
    "SIDE_1 = 3\n",
    "SIDE_2 = 4\n",
    "SIDE_3 = 5\n",
    "\n",
    "## Calculate the area of a square\n",
    "\n",
    "# Square Side\n",
    "SIDE = 10\n",
    "\n",
    "# Square Area\n",
    "area = SIDE*SIDE\n",
    "\n",
    "print(f\"The area of the square with side {SIDE} is: {area}\")\n",
    "\n",
    "# Cylinder Dimensions height 10, base diameter 16\n",
    "HEIGHT = 10 \n",
    "BASE   = 16"
   ]
  },
  {
   "cell_type": "code",
   "execution_count": 17,
   "id": "cell-29-code",
   "metadata": {},
   "outputs": [
    {
     "name": "stdout",
     "output_type": "stream",
     "text": [
      "The area is : 201.06\n"
     ]
    }
   ],
   "source": [
    "# Calculate volume of a cylinder \n",
    "import math\n",
    "\n",
    "## Calculate the area of the base (pi * r^2)\n",
    "\n",
    "#define BASE variable\n",
    "BASE = 16\n",
    "\n",
    "#calculate area of base\n",
    "AREA = (BASE/2)**2 * math.pi\n",
    "\n",
    "volume = HEIGHT * BASE\n",
    "\n",
    "print(\"The area is : \" + str(round(AREA,2)))"
   ]
  },
  {
   "attachments": {},
   "cell_type": "markdown",
   "id": "cell-30-markdown",
   "metadata": {},
   "source": [
    "Summary: \n",
    "\n",
    "Code Cell 1:\n",
    "    - ISSUE: all 3 SIDE variables were never defined\n",
    "    - FIX: defined SIDE_1, SIDE_2, SIDE_3\n",
    "\n",
    "Code Cell 2: \n",
    "    -ISSUE: using varibles defined for the sides of a triangle to calculate the area of a square\n",
    "    -FIX: defined area variable as SIDE*SIDE, since those were the defined variables for squares\n",
    "\n",
    "Code Cell 3: \n",
    "    -ISSUE: BASE variable never defined \n",
    "    -ISSUE: need two separate variables (can't have BASE = BASE/2...)\n",
    "    -FIX: define BASE and then calculate area by creating new variable AREA that follows the area of a cylinder equation\n",
    "    -ISSUE: specific task says to \"calculate the area of base (pi * r^2), but the printed output shows volume\n",
    "    -FIX: print(AREA) istead"
   ]
  },
  {
   "cell_type": "markdown",
   "id": "53b329d9-a9ff-46e7-aa1d-c196f1578c19",
   "metadata": {},
   "source": [
    "<HR/>\n",
    "\n",
    "### <font color = 'blue'>SCOPE CHECK</font> \n",
    "##### Check the work you are turning in to ensure that\n",
    "- You haven't used concepts or functions that are covered in lessons that are outside the scope of this assignment (scope provided in instructions above).\n",
    "##### <font color = 'blue'> Using concepts or functions that are outside the scope of the assignment will result in a score of zero for the corresponding questions.</font>\n",
    "\n",
    "\n",
    "### <font color = 'red'>ACADEMIC INTEGRITY CHECK</font> \n",
    "\n",
    "##### Check the work you are turning in to ensure that\n",
    "- You haven't used any concepts or functions not explicitly covered in the course lessons. You cannot use concepts/functions available in Python documentation unless they have been explicitly covered in a lesson or the question prompt explicitly instructs you to do so.\n",
    "- You haven't used concepts or functions that are covered in lessons that are outside the scope of this assignment (scope provided in instructions above).\n",
    "- You haven't copied any code from any websites or AI assistant tools.\n",
    "- You haven't used code provided to you by another individual (other than your teammates for team assignments).\n",
    "- You can explain every line of code you are turning in.\n",
    "\n",
    "##### <font color = 'red'> Failing to do the above could result in a formal academic integrity violation filing. </font>\n",
    "\n",
    "If any potential AI violations are identified in your submission, it will not receive a grade. You will be asked to schedule a meeting with the instructor to explain the code that was flagged for a potential violation. If you are able to satisfactorily explain your work and any concepts, functions, etc. that were used, we will assign a grade for the assignment which will include a penalty for out-of-scope work. If you are unable to satisfactorily explain your work and any concepts, functions, etc. that were used, an AI violation form will be filed.\n",
    "\n",
    "<HR/>\n"
   ]
  }
 ],
 "metadata": {
  "cgVersion": 1,
  "kernelspec": {
   "display_name": "Python 3 (ipykernel)",
   "language": "python",
   "name": "python3"
  },
  "language_info": {
   "codemirror_mode": {
    "name": "ipython",
    "version": 3
   },
   "file_extension": ".py",
   "mimetype": "text/x-python",
   "name": "python",
   "nbconvert_exporter": "python",
   "pygments_lexer": "ipython3",
   "version": "3.12.6"
  }
 },
 "nbformat": 4,
 "nbformat_minor": 5
}
