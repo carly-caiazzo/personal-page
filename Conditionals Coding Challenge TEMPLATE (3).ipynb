{
 "cells": [
  {
   "cell_type": "markdown",
   "id": "827535cf-e4ca-4d78-b0b2-2d3df69344de",
   "metadata": {
    "editable": true,
    "slideshow": {
     "slide_type": ""
    },
    "tags": []
   },
   "source": [
    "# Conditionals: Coding Challenge\n",
    "<HR/>\n",
    "\n",
    "**This assignment is designed to provide you practice with Conditional Statements.**"
   ]
  },
  {
   "cell_type": "markdown",
   "id": "e2bcba68-74fe-40b9-9671-79285212e3b0",
   "metadata": {
    "editable": true,
    "slideshow": {
     "slide_type": ""
    },
    "tags": []
   },
   "source": [
    "## INSTRUCTIONS - Please read carefully.\n",
    "\n",
    "1. Please complete the following coding exercises and upload a copy of the completed notebook as your assignment submission.\n",
    "\n",
    "2. The estimated difficulty level is listed next to each question (**L** - low, **M** - medium, **H** - high).\n",
    "   \n",
    "3. A blank code cell has been created below each question for you to add the relevant code. Add additional code cells if needed. Execute all code cells to display the results. \n",
    "\n",
    "4. Add comments in each cell to explain what the code is meant to achieve (you will be graded on this). For example,\n",
    "\n",
    "```\n",
    "# ask for user preference\n",
    "\n",
    "# check if user wants to continue\n",
    "```\n",
    "\n",
    "5. Follow guidelines discussed in class to create well-written code. For example, provide user friendly prompts for all user inputs and user friendly messages with all outputs. Assign meaningful names to variables (you will be graded on this).\n",
    "\n",
    "6. <font color=\"red\">The **scope of this assignment** is limited to the material covered until the end of the lesson on **<u>Python Fundamentals - 4: Conditionals</u>**. You must not use concepts discussed in subsequent lessons in your work for this assignment</font>.\n",
    "\n",
    "7. You can use additional materials, online resources and Gen AI tools to study course concepts but you may not post the specific questions online or otherwise seek help in answering the specific homework questions. Additionally, you must only use the concepts/ functions that are in the scope of the assignment and have been covered in the course. **The use of concepts and functions that are not in the scope of the assignment, or have not been covered in the course, or mentioned in the question will incur a <font color=\"red\">penalty</font>**. The default penalty is zero for the question where such code is used, unless otherwise specified in the assignment. If we notice the use of concepts and functions that were not covered in the course or mentioned in the question, or if the code does not appear similar to what you have turned in before, we will ask you to set up a meeting to explain the code. **Failure to explain your submitted code may result in <font color=\"red\">academic integrity violation proceedings</font>**. Please **CHECK THE ACADEMIC INTEGRITY SECTION IN THE SYLLABUS** for complete information. \n",
    "   \n",
    "8. Do the following before downloading the notebook for submission. From the Kernel menu, select Restart Kernel and Clear All Outputs. Next, run all your code cells one by one, from the top to the bottom. Provide inputs where you have used input() functions and check that the outputs of all code cells are as you expected. If everything checks out, save the notebook and download it for submission. If you find any errors, fix them and repeat this step until everything checks out."
   ]
  },
  {
   "cell_type": "markdown",
   "id": "655522b3-0087-4b13-a7a5-f044428505b7",
   "metadata": {
    "editable": true,
    "slideshow": {
     "slide_type": ""
    },
    "tags": []
   },
   "source": [
    "<HR/>\n",
    "\n",
    "## <font color='red'/>Student Name</font>\n",
    "\n",
    "#### **Name: Carly Caiazzo**\n",
    "\n",
    "<HR/>"
   ]
  },
  {
   "cell_type": "markdown",
   "id": "b900034f-95f7-4023-a2ba-9e5ad8515d4a",
   "metadata": {
    "editable": true,
    "slideshow": {
     "slide_type": ""
    },
    "tags": [
     "Pre-Q"
    ]
   },
   "source": [
    "## Notebook Setup (Imports)\n",
    "\n",
    "Please add any imports you need below or any other code that you need to run before your other code cells.\n"
   ]
  },
  {
   "cell_type": "code",
   "execution_count": null,
   "id": "accd9432-aa8e-4981-aa51-daba7f7ec097",
   "metadata": {
    "editable": true,
    "slideshow": {
     "slide_type": ""
    },
    "tags": []
   },
   "outputs": [],
   "source": [
    "# Imports Here\n"
   ]
  },
  {
   "cell_type": "markdown",
   "id": "900dfeef-02c2-4e0e-b56e-25372d8f2800",
   "metadata": {
    "editable": true,
    "slideshow": {
     "slide_type": ""
    },
    "tags": [
     "Q1-Text"
    ]
   },
   "source": [
    "<HR/> \n",
    "\n",
    "## Question 1 (M)\n",
    "\n",
    "Your new part-time job pays at the rate of \\\\$20 per hour for upto 160 hours a month (8 hours a day for 20 days a month). For any hours over 160, the pay rate increases to \\\\$22 per hour. \n",
    "\n",
    "Write a program that asks you for the total number of hours worked in a month and displays the total income for that month.\n",
    "\n",
    "Use the following test cases when testing the code:\n",
    "\n",
    "\n",
    "| Hours Worked | Total Income (Output) |\n",
    "---------|--------|\n",
    "| 60 | \\$1200.0 |\n",
    "| 100 | \\$2000.0 | \n",
    "| 160 | \\$3200.0 |\n",
    "| 200 | \\$4080.0 |\n",
    "| 240 | \\$4960.0 |\n"
   ]
  },
  {
   "cell_type": "code",
   "execution_count": 13,
   "id": "2df14ae6-baf6-4f32-8893-74439f9fa5d9",
   "metadata": {},
   "outputs": [
    {
     "name": "stdin",
     "output_type": "stream",
     "text": [
      "What is the total number of hours you worked in a month? 60\n"
     ]
    },
    {
     "name": "stdout",
     "output_type": "stream",
     "text": [
      "$1200\n"
     ]
    }
   ],
   "source": [
    "## asks user for total hours worked in a month\n",
    "hours_worked = int(input(\"What is the total number of hours you worked in a month?\"))\n",
    "\n",
    "#defines pay rates per hour and after overtime\n",
    "hourly_pay = 20\n",
    "hourly_pay_over = 22\n",
    "\n",
    "#defines overtime\n",
    "overtime = 160\n",
    "\n",
    "#calculates income \n",
    "if hours_worked < overtime:\n",
    "    total = round(hourly_pay*hours_worked,1)\n",
    "    print(f\"${total}\")\n",
    "else: \n",
    "    total = (round(hourly_pay*overtime) + (hourly_pay_over *(hours_worked - overtime)),1)\n",
    "    print(f\"${total}\")"
   ]
  },
  {
   "cell_type": "markdown",
   "id": "9f8dff90-05ca-47b7-9189-013a0dd4fde8",
   "metadata": {
    "editable": true,
    "slideshow": {
     "slide_type": ""
    },
    "tags": [
     "Q2-Text"
    ]
   },
   "source": [
    "<HR/>\n",
    "\n",
    "## Question 2 (L)\n",
    "\n",
    "Your classmate comes to you with a problem with their code. There code is in the cell below.\n",
    "\n",
    "Your classmate has been trying to write a program to take 3 sides of a triangle as input from the user and then display how many of the sides of the triangle are equal. However, they are running into issues and its not working. Can you fix their code? \n",
    "\n",
    "<b>Please include comments in their code for what you fixed and why so your classmate can understand where they went wrong.</b>\n",
    "\n",
    "Use the following test cases when testing the code:\n",
    "\n",
    "| Side 1 | Side 2 | Side 3 | Output |\n",
    "---------|--------|--------|--------|\n",
    "| 1 | 2 | 3 | All your triangle sides are unequal |\n",
    "| 1 | 3 | 1 | 2 of the sides of your triangle are equal | \n",
    "| 1 | 1 | 1 | All the sides of your triangle are equal |"
   ]
  },
  {
   "cell_type": "code",
   "execution_count": 13,
   "id": "2099bda5-9952-478a-9351-f2b89e6fac6c",
   "metadata": {},
   "outputs": [
    {
     "name": "stdin",
     "output_type": "stream",
     "text": [
      "What is the length of the first side? 1\n",
      "What is the length of the second side? 1\n",
      "What is the length of the third side? 1\n"
     ]
    },
    {
     "name": "stdout",
     "output_type": "stream",
     "text": [
      "All the sides of your triangle are equal\n"
     ]
    }
   ],
   "source": [
    "#fixed version\n",
    "# Get the Three Sides of the triangle from the User\n",
    "side_1 = int(input(\"What is the length of the first side?\"))\n",
    "side_2 = int(input(\"What is the length of the second side?\"))\n",
    "side_3 = int(input(\"What is the length of the third side?\"))\n",
    "\n",
    "# First condition - when the sides are all unequal\n",
    "#ISSUE FIXED - did not account for side 1 and side 3 being unequal\n",
    "if side_1 != side_2 and side_2 != side_3 and side_1 != side_3:\n",
    "    print(\"All your triangle sides are unequal\")\n",
    "    \n",
    "# Second Condition - When the sides are all equal\n",
    "#ISSUE FIXED - elif not if\n",
    "elif side_1 == side_2 and side_2 == side_3 and side_1 == side_3:\n",
    "    print(\"All the sides of your triangle are equal\")\n",
    "    \n",
    "# Third Condition - When 2 of the sides are equal\n",
    "else:\n",
    "    print(\"2 of the sides of your triangle are equal\")"
   ]
  },
  {
   "cell_type": "markdown",
   "id": "5f27c4b0-6e8e-4460-a741-6cbd7483ff2e",
   "metadata": {
    "editable": true,
    "slideshow": {
     "slide_type": ""
    },
    "tags": [
     "Q3-Text"
    ]
   },
   "source": [
    "<HR/>\n",
    "\n",
    "## Question 3 (L)\n",
    "\n",
    "Write a program that prompts for a student's exam score (out of 100) in an integer variable called `score`. The program prints the student's score as well as the corresponding letter grade (stored in the variable `grade`) using the following grade cutoffs. \n",
    "\n",
    "|Grade|A|A-|B+|B|B-|C+|C|D|F\n",
    "|-|-|-|-|-|-|-|-|-|-|\n",
    "|Cutoff points|93|90|87|83|80|77|70|60|<60|\n",
    "\n",
    "Be sure to test your code using exam scores that correspond to each letter grade and scores that are exactly equal to cutoff points, a score of 100, a score of 0 and a negative score. \n"
   ]
  },
  {
   "cell_type": "code",
   "execution_count": 17,
   "id": "ec4c4e75-5773-4f77-bbac-14d88ad7217c",
   "metadata": {},
   "outputs": [
    {
     "name": "stdin",
     "output_type": "stream",
     "text": [
      "give your exam score out of 100: 84\n"
     ]
    },
    {
     "name": "stdout",
     "output_type": "stream",
     "text": [
      "Score: 84\n",
      "Grade: B\n"
     ]
    }
   ],
   "source": [
    "#defining variables and asking for exam score as input int\n",
    "score = int(input(\"give your exam score out of 100:\"))\n",
    "\n",
    "#prints score\n",
    "print(\"Score:\", score)\n",
    "\n",
    "#defines letter grade conditionals\n",
    "if score < 60:\n",
    "    grade = \"F\"\n",
    "elif score < 70:\n",
    "    grade = \"D\"\n",
    "elif score < 77:\n",
    "    grade = \"C\"\n",
    "elif score < 80: \n",
    "    grade = \"C+\"\n",
    "elif score < 83: \n",
    "    grade = \"B-\"\n",
    "elif score < 87: \n",
    "    grade = \"B\"\n",
    "elif score < 90:\n",
    "    grade = \"B+\"\n",
    "elif score < 93:\n",
    "    grade = \"A-\"\n",
    "elif score <= 100:\n",
    "    grade = \"A\"\n",
    "\n",
    "print(\"Grade:\",grade)"
   ]
  },
  {
   "cell_type": "markdown",
   "id": "7f7cac0a-ecf0-4621-9987-3de4bd5274bf",
   "metadata": {
    "editable": true,
    "slideshow": {
     "slide_type": ""
    },
    "tags": [
     "Q4-Text"
    ]
   },
   "source": [
    "<HR/>\n",
    "\n",
    "## Question 4 (H)\n",
    "\n",
    "Write a program that determines wheter a user specified (input) year is a leap year or not. You can find the logic [here](https://docs.microsoft.com/en-us/office/troubleshoot/excel/determine-a-leap-year).\n",
    "\n",
    "Use the following test cases when testing the code:\n",
    "\n",
    "| Year | Output |\n",
    "---------|--------|\n",
    "| 2000 | 2000 is a leap year. |\n",
    "| 2001 | 2001 is not a leap year. | \n",
    "| 2002 | 2002 is not a leap year. |\n",
    "| 2003 | 2003 is not a leap year. |\n",
    "| 2004 | 2004 is a leap year. |\n",
    "| 1900 | 1900 is not a leap year. |\n",
    "| 2400 | 2400 is a leap year. |\n",
    "| 2600 | 2600 is not a leap year. |\n"
   ]
  },
  {
   "cell_type": "code",
   "execution_count": 11,
   "id": "cd7d234f-5fcc-44a2-b678-098d35447a45",
   "metadata": {},
   "outputs": [
    {
     "name": "stdin",
     "output_type": "stream",
     "text": [
      "give me a hypothetical year 2600\n"
     ]
    },
    {
     "name": "stdout",
     "output_type": "stream",
     "text": [
      "2600 is not a leap year\n"
     ]
    }
   ],
   "source": [
    "# asks user for input\n",
    "year = int(input(\"give me a hypothetical year\"))\n",
    "\n",
    "#shows that leap years are evenly divisible by 400 and 100\n",
    "if (year % 4 == 0 and year % 100 != 0) or (year % 400 == 0):\n",
    "    print (year, \"is a leap year\")\n",
    "\n",
    "else:\n",
    "    print(year,\"is not a leap year\")"
   ]
  },
  {
   "cell_type": "markdown",
   "id": "9a515c60-f5e6-4253-a009-78ad17fa5909",
   "metadata": {
    "editable": true,
    "slideshow": {
     "slide_type": ""
    },
    "tags": [
     "Q5-Text"
    ]
   },
   "source": [
    "<HR/>\n",
    "\n",
    "## Question 5 (H)\n",
    "\n",
    "\n",
    "Create a distance unit conversion utility that works as follows. When executed the program displays the following messages to the user. \n",
    "\n",
    "```\n",
    "Distance Unit Conversion Utility\n",
    "The units available are:\n",
    "1) inches\n",
    "2) feet\n",
    "3) yards\n",
    "4) miles\n",
    "```\n",
    "Then it prompts the user to provide inputs.\n",
    "```\n",
    "Please specify the unit of the distance you want to convert (enter a number between 1 and 4): \n",
    "```\n",
    "```\n",
    "Please enter the distance in <insert appropriate unit based on previous user input>: \n",
    "```\n",
    "```\n",
    "Please enter the unit you would like to convert this distance to (enter a number between 1 and 4):\n",
    "```\n",
    "Once all the inputs are provided, the program should perform the unit conversion and display the result in the following format:\n",
    "```\n",
    "<original distance> <original units> = <converted distance> <converted units>\n",
    "```\n",
    "\n",
    "Your code should allow for the original unit to be specified as a floating point number and should display the converted unit with two decimal places.\n",
    "\n",
    "Use the following test cases when testing the code:\n",
    "\n",
    "| Original Units | Original Amount | Converted Units | (Output) Converted Amount |\n",
    "---------|--------|---------|--------|\n",
    "| 1 (Inches) | 12 | 2 (Feet) | 12.0 inches = 1.0 feet |\n",
    "| 1 (Inches) | 63360 | 4 (Miles) | 63360.0 inches = 1.0 miles |\n",
    "| 2 (Feet) | 100 | 1 (Inches) | 100.0 feet = 1200.0 inches |\n",
    "| 3 (Yards) | 25 | 2 (Feet) | 25.0 yards = 75.0 feet |\n",
    "| 4 (Miles) | 2 | 4 (Miles) | 2.0 miles = 2.0 miles |\n",
    "| 1 (Inches) | 99 | 3 (Yards) | 99.0 inches = 2.75 yards |"
   ]
  },
  {
   "cell_type": "code",
   "execution_count": 3,
   "id": "8724d404-9181-4c00-8ddb-83b4eb58b3ec",
   "metadata": {},
   "outputs": [
    {
     "name": "stdout",
     "output_type": "stream",
     "text": [
      "Distance Unit Conversion Utility\n",
      "The units available are:\n",
      "1) inches\n",
      "2) feet\n",
      "3) yards\n",
      "4) miles\n"
     ]
    },
    {
     "name": "stdin",
     "output_type": "stream",
     "text": [
      "Please specify the unit of the distance you want to convert (enter a number between 1 and 4):  2\n",
      "Please enter the distance in 2: 100\n",
      "Please enter the unit you would like to convert this distance to (enter a number between 1 and 4): 1\n"
     ]
    },
    {
     "name": "stdout",
     "output_type": "stream",
     "text": [
      "100 feet = 1200 inches\n"
     ]
    }
   ],
   "source": [
    "# message to user about input options\n",
    "print(\"Distance Unit Conversion Utility\")\n",
    "print(\"The units available are:\")\n",
    "print(\"1) inches\")\n",
    "print(\"2) feet\")\n",
    "print(\"3) yards\")\n",
    "print(\"4) miles\")\n",
    "\n",
    "#defining variables\n",
    "inches = \"1\"\n",
    "feet = \"2\"\n",
    "yards = \"3\"\n",
    "miles = \"4\"\n",
    "\n",
    "#asking user for the units, distance of units, and conversion unit\n",
    "original_unit = input(\"Please specify the unit of the distance you want to convert (enter a number between 1 and 4): \")\n",
    "original_distance = int(input(f\"Please enter the distance in {original_unit}:\"))\n",
    "conversion_unit = input(\"Please enter the unit you would like to convert this distance to (enter a number between 1 and 4):\")\n",
    "\n",
    "#calculation to inches\n",
    "if original_unit == \"1\":\n",
    "    distance_in_inches = original_distance\n",
    "    original_unit_name = \"inches\"\n",
    "elif original_unit == \"2\":\n",
    "    distance_in_inches = original_distance * 12\n",
    "    original_unit_name = \"feet\"\n",
    "elif original_unit == \"3\":\n",
    "    distance_in_inches = original_distance * 36\n",
    "    original_unit_name = \"yards\"\n",
    "elif original_unit == \"4\":\n",
    "    distance_in_inches = original_distance * 63360\n",
    "    original_unit_name = \"miles\"\n",
    "\n",
    "#calculation to other units\n",
    "if conversion_unit == \"1\":\n",
    "    converted_distance = distance_in_inches\n",
    "    conversion_unit_name = \"inches\"\n",
    "elif conversion_unit == \"2\":\n",
    "    converted_distance = distance_in_inches / 12\n",
    "    conversion_unit_name = \"feet\"\n",
    "elif conversion_unit == \"3\":\n",
    "    converted_distance = distance_in_inches / 36\n",
    "    conversion_unit_name = \"yards\"\n",
    "elif conversion_unit == \"4\":\n",
    "    converted_distance = distance_in_inches / 63360\n",
    "    conversion_unit_name = \"miles\"\n",
    "\n",
    "#output\n",
    "print(f\"{original_distance} {original_unit_name} = {converted_distance} {conversion_unit_name}\")"
   ]
  },
  {
   "cell_type": "markdown",
   "id": "42bd761a-32a8-4cef-a1fb-727a01618836",
   "metadata": {
    "editable": true,
    "slideshow": {
     "slide_type": ""
    },
    "tags": [
     "Q6-Text"
    ]
   },
   "source": [
    "<HR/>\n",
    "\n",
    "## Question 6 (M)\n",
    "\n",
    "Write a program that asks the user to enter a purchase quantity greater than zero. If the quantity entered is 0 or less, the program should display an error message and end. \n",
    "If the quantity is valid, the program should calculate the cost using a marginal unit quantity discount scheme as follows:\n",
    "\n",
    "Each unit costs \\$5 if the quantity is at or below 100 units. \n",
    "\n",
    "If the quantity is between 101 and 200, the units above 100 cost \\\\$3 each (the first 100 units still cost \\\\$5). \n",
    "\n",
    "If the quantity is greater than 200, then all units above 200 cost \\\\$1 each (the first 100 units still cost \\\\$5 and the next 100 units still cost \\\\$3). \n",
    "\n",
    "\n",
    "Test your code using the following cases:\n",
    "\n",
    "| Quantity | Cost |\n",
    "---------|--------|\n",
    "| 80 | \\$400 |\n",
    "| 100 | \\$500 | \n",
    "| 150 | \\$650 |\n",
    "| 200 | \\$800 |\n",
    "| 250 | \\$850 |"
   ]
  },
  {
   "cell_type": "code",
   "execution_count": 5,
   "id": "2d2046cd-0b3b-4e09-bbeb-e256f9c6ec52",
   "metadata": {},
   "outputs": [
    {
     "name": "stdin",
     "output_type": "stream",
     "text": [
      "Give me a purchase quantity greater than zero 250\n"
     ]
    },
    {
     "name": "stdout",
     "output_type": "stream",
     "text": [
      "$850\n"
     ]
    }
   ],
   "source": [
    "# asks user for purchase quantity\n",
    "purchase_quantity = int(input(\"Give me a purchase quantity greater than zero\"))\n",
    "\n",
    "#conditional stop\n",
    "if purchase_quantity <= 0: \n",
    "    print(\"error: must input a quality greater than zero\")\n",
    "else: \n",
    "    total_cost = 0\n",
    "\n",
    "#conditional pricing and calculating total cost\n",
    "if purchase_quantity <= 100: \n",
    "    total_cost = purchase_quantity * 5\n",
    "elif purchase_quantity <= 200 and purchase_quantity >= 101: \n",
    "    total_cost = 100 * 5 + (purchase_quantity - 100) * 3\n",
    "else: \n",
    "    total_cost = 100 * 5 + 100 * 3 + (purchase_quantity - 200) * 1\n",
    "\n",
    "\n",
    "#print output total cost\n",
    "print(f\"${total_cost}\")"
   ]
  },
  {
   "cell_type": "markdown",
   "id": "4c66b16c-edb4-4338-b534-95b098d3d6a3",
   "metadata": {
    "editable": true,
    "slideshow": {
     "slide_type": ""
    },
    "tags": [
     "Q7-Text"
    ]
   },
   "source": [
    "<HR/>\n",
    "\n",
    "## Question 7 (L)\n",
    "\n",
    "Modify the below code to use compound conditions instead of nested conditions.\n",
    "```Python\n",
    "# complete the code below. Then change the level and semester to test various cases.\n",
    "level = \"undergrad\" # level can be \"undergrad\" or \"grad\"\n",
    "semester = 4\n",
    "\n",
    "if level == \"grad\":\n",
    "    if semester == 1:\n",
    "        print(\"Welcome!\")\n",
    "    elif semester == 4:\n",
    "        print(\"Welcome back and congratulations on your upcoming graduation!\")\n",
    "    else:\n",
    "        print(\"Welcome back!\")\n",
    "else:\n",
    "    if semester == 1:\n",
    "        print(\"Welcome!\")\n",
    "    elif semester == 8:\n",
    "        print(\"Welcome back and congratulations on your upcoming graduation!\")\n",
    "    else:\n",
    "        print(\"Welcome back!\")   \n",
    "print(\"Have a good semester.\")\n",
    "```\n",
    "\n",
    "| Level | Semester | Output |\n",
    "---------|--------|--------|\n",
    "| undergrad | 1 | Welcome! Have a good semester. |\n",
    "| grad | 1 | Welcome! Have a good semester. |\n",
    "| grad | 2 | Welcome back! Have a good semester. |\n",
    "| grad | 4 | Welcome back and congratulations on your upcoming graduation! Have a good semester. |\n",
    "| undergrad | 8 | Welcome back and congratulations on your upcoming graduation! Have a good semester. |\n",
    "| undergrad | 6 | Welcome back! Have a good semester. |"
   ]
  },
  {
   "cell_type": "code",
   "execution_count": 21,
   "id": "9a3d7320-d74b-4141-9768-411e7e777501",
   "metadata": {},
   "outputs": [
    {
     "name": "stdout",
     "output_type": "stream",
     "text": [
      "Welcome!\n",
      "Have a good semester.\n"
     ]
    }
   ],
   "source": [
    "# complete the code below. Then change the level and semester to test various cases.\n",
    "level = \"undergrad\" # level can be \"undergrad\" or \"grad\"\n",
    "semester = 1\n",
    "\n",
    "if (level == \"undergrad\" and semester == 1) or (level == \"grad\" and semester == 1):\n",
    "    print(\"Welcome!\")\n",
    "elif (semester == 4) or (semester == 8):\n",
    "    print(\"Welcome back and congratulations on your upcoming graduation!\")\n",
    "else:\n",
    "    print(\"Welcome back!\")   \n",
    "print(\"Have a good semester.\")"
   ]
  },
  {
   "cell_type": "markdown",
   "id": "acf66a25-0ea0-4a98-9020-b612b5d018c7",
   "metadata": {
    "editable": true,
    "slideshow": {
     "slide_type": ""
    },
    "tags": [
     "Q8-Text"
    ]
   },
   "source": [
    "<HR/>\n",
    "\n",
    "## Question 8 (L)\n",
    "\n",
    "See the code block below.\n",
    "\n",
    "```Python\n",
    "\n",
    "num = int(input(\"Enter an integer between 1 and 50:\")) \n",
    "\n",
    "if num<10:\n",
    "    print(1)\n",
    "elif num>15:\n",
    "    print(2)\n",
    "elif num>20:\n",
    "    print(3)\n",
    "\n",
    "if num>25:\n",
    "    print(4)\n",
    "elif num>35:\n",
    "    print(5)\n",
    "else:\n",
    "    print(6)\n",
    "    \n",
    "```\n",
    "\n",
    "\n",
    "Create two trace tables for the above code block. For the first trace table, assume that the input is 30. For the second trace table, assume that the input is 22.\n"
   ]
  },
  {
   "cell_type": "markdown",
   "id": "a601588e-c046-44fd-a49a-ed2800a533cf",
   "metadata": {
    "editable": true,
    "slideshow": {
     "slide_type": ""
    },
    "tags": []
   },
   "source": [
    "#### Part 1 - Trace table for user input of 30. \n",
    "\n",
    "| Line | num | if num<10 | elif num>15 | elif num>20 | if num>25 | elif num>35 | else | output |\n",
    "|------|-----|-----------|-------------|-------------|-----------|-------------|------|--------|\n",
    "| 1    | 30  |           |             |             |           |             |      |        |\n",
    "| 2    |     |           |             |             |           |             |      |        |\n",
    "| 3    |     |           | T           |             |           |             |      | 2      |\n",
    "| 4    |     |           |             |             |           |             |      |        |\n",
    "| 5    |     |           |             |             | T         |             |      | 4      |\n",
    "| 6    |     |           |             |             |           |             |      |        |\n",
    "| 7    |     |           |             |             |           |             |      |        |\n",
    "\n"
   ]
  },
  {
   "cell_type": "markdown",
   "id": "595ca5ae-1248-4e85-9f27-f372e032b949",
   "metadata": {
    "editable": true,
    "jp-MarkdownHeadingCollapsed": true,
    "slideshow": {
     "slide_type": ""
    },
    "tags": []
   },
   "source": [
    "#### Part 2 - Trace table for user input of 22. \n",
    "\n",
    "| Line | num | if num<10 | elif num>15 | elif num>20 | if num>25 | elif num>35 | else | output |\n",
    "|------|-----|-----------|-------------|-------------|-----------|-------------|------|--------|\n",
    "| 1    | 22  |           |             |             |           |             |      |        |\n",
    "| 2    |     |           |             |             |           |             |      |        |\n",
    "| 3    |     |           | T           |             |           |             |      | 2      |\n",
    "| 4    |     |           |             |             |           |             |      |        |\n",
    "| 5    |     |           |             |             |           |             |      |        |\n",
    "| 6    |     |           |             |             |           |             |      |        |\n",
    "| 7    |     |           |             |             |           |             | T    | 6      |"
   ]
  },
  {
   "cell_type": "markdown",
   "id": "0de3d29e-9062-49c2-8a5d-43a515ccc6ac",
   "metadata": {},
   "source": [
    "<HR/>\n",
    "\n",
    "## Mini Lesson on Generating Random Numbers\n",
    "\n",
    "When programming, sometimes you will need to generate random numbers when running a simulation. Like the `math` Library from Homework 1, the `random` library is another built in python library that you can import to generate some random numbers. For more information about the different built in functions with the random library, you can read through the [full documentation](https://docs.python.org/3/library/random.html). For this homework, you will only need to understand `randint(a, b)`.\n",
    "\n",
    "Below is a code cell that has imported the `random` library and uses `randint` to generate a number between 3 and 10 (inclusive), saves it to a variable called `result` then prints `result`. Run it a few times and confirm that it generates a different random number each time the code block is ran. Feel free to change the range and confirm that it generates both the lower bound and upper bound."
   ]
  },
  {
   "cell_type": "code",
   "execution_count": null,
   "id": "9ffbf938-e6f6-4ec0-bc37-2f5eb6a6e1ab",
   "metadata": {},
   "outputs": [],
   "source": [
    "import random\n",
    "\n",
    "result = random.randint(3, 10)\n",
    "\n",
    "print(result)"
   ]
  },
  {
   "cell_type": "markdown",
   "id": "bd7d9297-6b9d-42a8-89dc-a65f714b7502",
   "metadata": {
    "editable": true,
    "slideshow": {
     "slide_type": ""
    },
    "tags": [
     "Q9-Text"
    ]
   },
   "source": [
    "<HR/>\n",
    "\n",
    "## Question 9 (M)\n",
    "\n",
    "You are to implement a simple computer opponent for your video game. The opponent has a percentage change of certain actions based on the following table:\n",
    "\n",
    "| Chance | Action |\n",
    "---------|--------|\n",
    "| 50% | Attack |\n",
    "| 10% | Defend |\n",
    "| 20% | Cast Spell |\n",
    "| 15% | Heavy Attack |\n",
    "| 5% | Retreat |\n",
    "\n",
    "You should generate a random number between 0 and 100 and then use conditional statements to determine and display which action to perform based on the random number generated. This requires generating cumulative probabilities for the actions. Then, you choose the action whose cumulative probability is greater than the random number. That is, choose the corresponding action if the random number is equal to or below the given cumulative probability. For this to work correctly, you should code conditions from top to bottom as provided in the table. The above table has been extended below to show the cumulative probabilities.\n",
    "\n",
    "| Chance | Action | Cumulative Probability (Choose action if random num <= cumulative probability)|\n",
    "---------|--------|--------|\n",
    "| 50% | Attack | 50% |\n",
    "| 10% | Defend | 60% |\n",
    "| 20% | Cast Spell | 80% |\n",
    "| 15% | Heavy Attack | 95% |\n",
    "| 5% | Retreat | 100% |\n",
    "\n",
    "\n",
    "<b>Below is the code outlined with blanks. Please fill in the blanks that are missing values and then continue to implement the code with additional if/elif/else statements as necessary.</b>"
   ]
  },
  {
   "cell_type": "code",
   "execution_count": 31,
   "id": "7914a6f7-fc12-4faa-a2fd-2a6983f687b4",
   "metadata": {
    "editable": true,
    "slideshow": {
     "slide_type": ""
    },
    "tags": []
   },
   "outputs": [
    {
     "name": "stdout",
     "output_type": "stream",
     "text": [
      "Result: 88 %\n",
      "Heavy Attack\n"
     ]
    }
   ],
   "source": [
    "## Student Code\n",
    "import random\n",
    "\n",
    "## Generate a number between 0 and 100\n",
    "result = random.randint(0, 100)\n",
    "print(\"Result:\", result, \"%\")\n",
    "\n",
    "## Tests if the cumulative probably is less than, or equal to, 50 and output \"Attack\"\n",
    "if(result <= 50):\n",
    "    print(\"Attack\")\n",
    "## Tests if the cumulative probably is less than, or equal to, 60 and output \"Defend\" \n",
    "elif (result <= 60):\n",
    "    print(\"Defend\")\n",
    "## Add additional if/elif/else statements as necessary\n",
    "elif (result <= 80):\n",
    "    print(\"Cast Spell\")\n",
    "## Add additional if/elif/else statements as necessary\n",
    "elif (result <= 95):\n",
    "    print(\"Heavy Attack\")\n",
    "## Add additional if/elif/else statements as necessary\n",
    "elif (result <= 100):\n",
    "    print(\"Retreat\")"
   ]
  },
  {
   "cell_type": "markdown",
   "id": "96a27768-e60d-44d3-96ec-bd8a27c5120a",
   "metadata": {
    "editable": true,
    "slideshow": {
     "slide_type": ""
    },
    "tags": [
     "Q10-Text"
    ]
   },
   "source": [
    "<HR/>\n",
    "\n",
    "## Question 10 (H)\n",
    "\n",
    "Write a program to help a user diagnose an issue with a fluid system. There are 3 pressure gauges the user will get readings from and enter into the program.\n",
    "\n",
    "The first gauge reports number between 1 and 10 (inclusive).\n",
    "The second gauge reports number between -50 and 50 (inclusive).\n",
    "The third gauge reports numbers between 100 and 1000 (inclusive).\n",
    "\n",
    "Have the program get the user to input numbers from the 3 valves in 3 separate prompts. Assume the user will always enter a number in the correct range.\n",
    "\n",
    "Below is a list of conditions when an error exists in the system.\n",
    "- Condition 1: The first gauge reports a number greater than or equal to 8\n",
    "- Condition 2: The second gauge is below -40 or higher than 40\n",
    "- Condition 3: The product of the first gauge and the absolute value of the second gauge exceeds the reading from the third gauge.\n",
    "\n",
    "Finally, use the following table to determine the output based on the **number** of conditions that are true:\n",
    "\n",
    "| Number of conditions that are true | Output |\n",
    "---------|--------|\n",
    "0 (no) conditions | System Normal |\n",
    "only 1 condition | System Error |\n",
    "only 2 conditions | Major System Malfunction |\n",
    "all 3 conditions| Catastrophic System Failure |\n",
    "\n",
    "Use the following table to test your code:\n",
    "\n",
    "| Gauge 1 | Gauge 2 | Gauge 3 | Output |\n",
    "---------|--------|---------|--------|\n",
    "| 9 | 20 | 400 | System Error | \n",
    "| 8 | -45 | 200 | Catastrophic System Failure | \n",
    "| 2 | -20 | 850 | System Normal | \n",
    "| 5 | -41 | 210 | System Error | \n",
    "| 5 | 46 | 100 | Major System Malfunction | \n"
   ]
  },
  {
   "cell_type": "code",
   "execution_count": 8,
   "id": "067833df-7197-4ced-8f04-f3104d9496e5",
   "metadata": {},
   "outputs": [
    {
     "name": "stdin",
     "output_type": "stream",
     "text": [
      "report a number between 1 and 10: 5\n",
      "report a number between -50 and 50: 46\n",
      "report a number between 100 and 1000: 100\n"
     ]
    },
    {
     "name": "stdout",
     "output_type": "stream",
     "text": [
      "Major System Malfunction\n"
     ]
    }
   ],
   "source": [
    "#asks for user input numbers within specified ranges\n",
    "gauge_1 = int(input(\"report a number between 1 and 10:\"))\n",
    "gauge_2 = int(input(\"report a number between -50 and 50:\"))\n",
    "gauge_3 = int(input(\"report a number between 100 and 1000:\"))\n",
    "\n",
    "#conditions\n",
    "condition_1 = gauge_1 >= 8\n",
    "condition_2 = gauge_2 <-40 or gauge_2 > 40 \n",
    "condition_3 = gauge_1 * abs(gauge_2) > gauge_3\n",
    "\n",
    "#using conditions to print output\n",
    "if (condition_1 == True) and (condition_2 == True) and (condition_3 == True):\n",
    "    print(\"Catastrophic System Failure\")\n",
    "elif ((condition_1 == True) and (condition_2 == True)) or ((condition_1 == True) and (condition_3 == True)) or ((condition_2 == True) and (condition_3 == True)):\n",
    "    print(\"Major System Malfunction\")\n",
    "elif (condition_1 == True) or (condition_2 == True) or (condition_3 == True):\n",
    "    print(\"System Error\")\n",
    "else: \n",
    "    print(\"System Normal\")"
   ]
  },
  {
   "cell_type": "markdown",
   "id": "32dc1d0a-3f57-41e8-b9a9-13ffa15cb114",
   "metadata": {
    "editable": true,
    "slideshow": {
     "slide_type": ""
    },
    "tags": []
   },
   "source": [
    "<HR/>\n",
    "\n",
    "### <font color = 'blue'>SCOPE CHECK</font> \n",
    "##### Check the work you are turning in to ensure that\n",
    "- You haven't used concepts or functions that are covered in lessons that are outside the scope of this assignment (scope provided in instructions above).\n",
    "##### <font color = 'blue'> Using concepts or functions that are outside the scope of the assignment will result in a score of zero for the corresponding questions.</font>\n",
    "\n",
    "\n",
    "### <font color = 'red'>ACADEMIC INTEGRITY CHECK</font> \n",
    "\n",
    "##### Check the work you are turning in to ensure that\n",
    "- You haven't used any concepts or functions not explicitly covered in the course lessons. You cannot use concepts/functions available in Python documentation unless they have been explicitly covered in a lesson or the question prompt explicitly instructs you to do so.\n",
    "- You haven't used concepts or functions that are covered in lessons that are outside the scope of this assignment (scope provided in instructions above).\n",
    "- You haven't copied any code from any websites or AI assistant tools.\n",
    "- You haven't used code provided to you by another individual (other than your teammates for team assignments).\n",
    "- You can explain every line of code you are turning in.\n",
    "\n",
    "##### <font color = 'red'> Failing to do the above could result in a formal academic integrity violation filing. </font>\n",
    "\n",
    "If any potential AI violations are identified in your submission, it will not receive a grade. You will be asked to schedule a meeting with the instructor to explain the code that was flagged for a potential violation. If you are able to satisfactorily explain your work and any concepts, functions, etc. that were used, we will assign a grade for the assignment which will include a penalty for out-of-scope work. If you are unable to satisfactorily explain your work and any concepts, functions, etc. that were used, an AI violation form will be filed.\n",
    "\n",
    "<HR/>\n"
   ]
  }
 ],
 "metadata": {
  "kernelspec": {
   "display_name": "Python 3 (ipykernel)",
   "language": "python",
   "name": "python3"
  },
  "language_info": {
   "codemirror_mode": {
    "name": "ipython",
    "version": 3
   },
   "file_extension": ".py",
   "mimetype": "text/x-python",
   "name": "python",
   "nbconvert_exporter": "python",
   "pygments_lexer": "ipython3",
   "version": "3.12.6"
  }
 },
 "nbformat": 4,
 "nbformat_minor": 5
}
